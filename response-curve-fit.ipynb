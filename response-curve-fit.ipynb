{
 "cells": [
  {
   "cell_type": "markdown",
   "metadata": {},
   "source": [
    "### Hill Slope dose response curve with 3 bounded parameters"
   ]
  },
  {
   "cell_type": "code",
   "execution_count": null,
   "metadata": {},
   "outputs": [],
   "source": [
    "HS_BOUNDS = ([0, 0, 0], [1, 12, 4])\n",
    "\n",
    "def response_curve(x, einf, ec50, hs):\n",
    "    \"\"\" ec50 in -log10(M)\n",
    "    \"\"\"\n",
    "    return einf + (1 - einf) / (1 + 10 ** ((ec50 - x) * hs))"
   ]
  },
  {
   "cell_type": "markdown",
   "metadata": {},
   "source": [
    "All our dose values are in -log10(M). This is different from PharmacoDB's unit (µM). For example, the bounds for EC50 is [1pM, 1M], or [10<sup>-6</sup>µM, 10<sup>+6</sup>µM], is expressed as [0, 12] in our notation. \n",
    "\n",
    "\n",
    "### Parameters and metrics\n",
    "\n",
    "* Einf - fraction of cells not susceptible to drug\n",
    "* EC50 - drug dose to have half target receptors bound\n",
    "* HS - hill slope binding cooperativity\n",
    "\n",
    "* AUC - area under growth curve for a fixed dose range: [4, 10]\n",
    "* IC50 - drug dose to have 50% growth\n",
    "* EC50se - standard error of the estimated EC50\n",
    "* R2fit - R<sup>2</sup> score between the unclipped, real growths and fitted growth values\n",
    "\n",
    "* AUC1 - area under growth curve for the measured dose range in a study\n",
    "* AAC1 - area above growth curve for the measured dose range in a study\n",
    "* DDS1 - drug sensitivity score defined in [Yadav et al, 2014](https://www.nature.com/articles/srep05193)\n",
    "\n",
    "The first three are model parameters estimated through curve fitting. The remaining are derived metrics. \n",
    "\n",
    "HS is a parameter describing the cooperativity of binding. HS < 1 denotes negative binding cooperativity, HS = 1 denotes noncooperative binding, and HS > 1 denotes positive binding cooperativity.\n",
    "\n",
    "AAC1 can be compared with PharmacoDB's AAC.\n",
    "\n",
    "DSS1 can be compared with PharmacoDB's DDS1. \n",
    "\n",
    "The difference between AUC and AUC1 is that AUC is based on a fixed dose range while AUC1 is calculated for the measured dose window in a particular study. AUC can be viewed as the average growth and can be compared across studies. AUC1 measures the shape of the curve and is dependent on the study choice of measured dose range. \n",
    "\n",
    "DSS1 is a more robust variant of AUC1 normalized against dose range. DSS1 measures the response sensitivity within the intended dose range of the drug.\n",
    "\n",
    "The figure below shows the original definition of DSS1. We adopt PharmacoDB's simplified version, which does not have the control curve. Note the y-axis is flipped (growth vs inhibition) in our examples below.  \n",
    "\n",
    "![DSS1](https://github.com/levinas/curve/raw/master/figs/DSS1.png)"
   ]
  },
  {
   "cell_type": "markdown",
   "metadata": {},
   "source": [
    "### A PharmacoDB example\n",
    "Let's take a look at [a multi-study dose response example from PharmacoDB](https://pharmacodb.pmgenomics.ca/search?q=LOXIMVI+paclitaxel) and see if we can reproduce the curve fitting parameters.\n",
    "\n",
    "![Dose response curves](https://github.com/levinas/curve/raw/master/figs/pharmacoDB-curves.png)\n",
    "\n",
    "![Summary stats](https://github.com/levinas/curve/raw/master/figs/pharmacoDB-stats.png)\n",
    "\n",
    "For this cell-drug combination, there are two CTRP replicate studies, both of which are poorly fitted. The second CTRP study is grayed out to reduce confusion.  "
   ]
  },
  {
   "cell_type": "markdown",
   "metadata": {},
   "source": [
    "#### Case 1\n",
    "\n",
    "We fit the purple gCSI curve below. The parameters match PharmacoDB's table after adjusting for the concentration unit difference."
   ]
  },
  {
   "cell_type": "code",
   "execution_count": 1087,
   "metadata": {},
   "outputs": [
    {
     "name": "stdout",
     "output_type": "stream",
     "text": [
      "        SOURCE          CELL     DRUG      DOSE  GROWTH   STUDY\n",
      "6293838   gCSI  gCSI.LOXIMVI  gCSI.13  9.339134  0.9977  241830\n",
      "6293839   gCSI  gCSI.LOXIMVI  gCSI.13  8.861697  0.9496  241830\n",
      "6293840   gCSI  gCSI.LOXIMVI  gCSI.13  8.384576  0.9149  241830\n",
      "6293841   gCSI  gCSI.LOXIMVI  gCSI.13  7.907455  0.6179  241830\n",
      "6293842   gCSI  gCSI.LOXIMVI  gCSI.13  7.430334  0.2779  241830\n",
      "6293843   gCSI  gCSI.LOXIMVI  gCSI.13  6.953212  0.2125  241830\n",
      "6293844   gCSI  gCSI.LOXIMVI  gCSI.13  6.477122  0.1462  241830\n",
      "6293845   gCSI  gCSI.LOXIMVI  gCSI.13  6.000000  0.1539  241830\n",
      "6293846   gCSI  gCSI.LOXIMVI  gCSI.13  5.522879  0.1531  241830\n"
     ]
    },
    {
     "data": {
      "image/png": "[encoded data removed]",
      "text/plain": [
       "<Figure size 432x288 with 1 Axes>"
      ]
     },
     "metadata": {},
     "output_type": "display_data"
    },
    {
     "data": {
      "text/html": [
       "<div>\n",
       "<style scoped>\n",
       "    .dataframe tbody tr th:only-of-type {\n",
       "        vertical-align: middle;\n",
       "    }\n",
       "\n",
       "    .dataframe tbody tr th {\n",
       "        vertical-align: top;\n",
       "    }\n",
       "\n",
       "    .dataframe thead th {\n",
       "        text-align: right;\n",
       "    }\n",
       "</style>\n",
       "<table border=\"1\" class=\"dataframe\">\n",
       "  <thead>\n",
       "    <tr style=\"text-align: right;\">\n",
       "      <th></th>\n",
       "      <th>AUC</th>\n",
       "      <th>IC50</th>\n",
       "      <th>EC50</th>\n",
       "      <th>EC50se</th>\n",
       "      <th>R2fit</th>\n",
       "      <th>Einf</th>\n",
       "      <th>HS</th>\n",
       "      <th>AAC1</th>\n",
       "      <th>AUC1</th>\n",
       "      <th>DSS1</th>\n",
       "    </tr>\n",
       "  </thead>\n",
       "  <tbody>\n",
       "    <tr>\n",
       "      <th>metrics</th>\n",
       "      <td>0.4575</td>\n",
       "      <td>7.7636</td>\n",
       "      <td>7.8603</td>\n",
       "      <td>0.0238</td>\n",
       "      <td>0.9977</td>\n",
       "      <td>0.1568</td>\n",
       "      <td>1.6888</td>\n",
       "      <td>0.5163</td>\n",
       "      <td>0.4837</td>\n",
       "      <td>0.4828</td>\n",
       "    </tr>\n",
       "  </tbody>\n",
       "</table>\n",
       "</div>"
      ],
      "text/plain": [
       "            AUC    IC50    EC50  EC50se   R2fit    Einf      HS    AAC1  \\\n",
       "metrics  0.4575  7.7636  7.8603  0.0238  0.9977  0.1568  1.6888  0.5163   \n",
       "\n",
       "           AUC1    DSS1  \n",
       "metrics  0.4837  0.4828  "
      ]
     },
     "execution_count": 1087,
     "metadata": {},
     "output_type": "execute_result"
    }
   ],
   "source": [
    "fit_response(df0, 'LOXIMVI', 'paclitaxel', 'gCSI')"
   ]
  },
  {
   "cell_type": "markdown",
   "metadata": {},
   "source": [
    "We look at two confidence parameters to assess the quality of the fit:\n",
    "1. EC50 standard error = 0.0238 lg(M)\n",
    "2. R<sup>2</sup> of fit = 0.9977\n",
    "\n",
    "Both look good.\n",
    "\n",
    "The purple dotted line in the PharmacoDB figure marks the gCSI EC50 value (0.0138 µM), which translates to 7.86 in our EC50 estimate in -lg(M)."
   ]
  },
  {
   "cell_type": "code",
   "execution_count": 1048,
   "metadata": {},
   "outputs": [
    {
     "data": {
      "text/plain": [
       "7.860120913598763"
      ]
     },
     "execution_count": 1048,
     "metadata": {},
     "output_type": "execute_result"
    }
   ],
   "source": [
    "-np.log10(0.0138 * 10**-6)"
   ]
  },
  {
   "cell_type": "markdown",
   "metadata": {},
   "source": [
    "#### Case 2\n",
    "The GDSC curve below has an estimated E<sub>∞</sub> of 0.5137. This means the lowest the response curve can ever get is 51.37% growth, which explains the NaN estimate for the IC50. It's a good fit nonetheless given the high R2fit and low EC50se. "
   ]
  },
  {
   "cell_type": "code",
   "execution_count": 1086,
   "metadata": {},
   "outputs": [
    {
     "name": "stdout",
     "output_type": "stream",
     "text": [
      "        SOURCE          CELL     DRUG     DOSE  GROWTH  STUDY\n",
      "7228896   GDSC  GDSC.LOXIMVI  GDSC.11  9.39794  1.0028  91048\n",
      "7228897   GDSC  GDSC.LOXIMVI  GDSC.11  9.09691  0.9844  91048\n",
      "7228898   GDSC  GDSC.LOXIMVI  GDSC.11  8.79588  0.8927  91048\n",
      "7228899   GDSC  GDSC.LOXIMVI  GDSC.11  8.49485  0.7785  91048\n",
      "7228900   GDSC  GDSC.LOXIMVI  GDSC.11  8.19382  0.7385  91048\n",
      "7228901   GDSC  GDSC.LOXIMVI  GDSC.11  7.89279  0.6349  91048\n",
      "7228902   GDSC  GDSC.LOXIMVI  GDSC.11  7.59176  0.5914  91048\n",
      "7228903   GDSC  GDSC.LOXIMVI  GDSC.11  7.29073  0.5343  91048\n",
      "7228904   GDSC  GDSC.LOXIMVI  GDSC.11  6.98970  0.5171  91048\n"
     ]
    },
    {
     "data": {
      "image/png": "[encoded data removed]",
      "text/plain": [
       "<Figure size 432x288 with 1 Axes>"
      ]
     },
     "metadata": {},
     "output_type": "display_data"
    },
    {
     "data": {
      "text/html": [
       "<div>\n",
       "<style scoped>\n",
       "    .dataframe tbody tr th:only-of-type {\n",
       "        vertical-align: middle;\n",
       "    }\n",
       "\n",
       "    .dataframe tbody tr th {\n",
       "        vertical-align: top;\n",
       "    }\n",
       "\n",
       "    .dataframe thead th {\n",
       "        text-align: right;\n",
       "    }\n",
       "</style>\n",
       "<table border=\"1\" class=\"dataframe\">\n",
       "  <thead>\n",
       "    <tr style=\"text-align: right;\">\n",
       "      <th></th>\n",
       "      <th>AUC</th>\n",
       "      <th>IC50</th>\n",
       "      <th>EC50</th>\n",
       "      <th>EC50se</th>\n",
       "      <th>R2fit</th>\n",
       "      <th>Einf</th>\n",
       "      <th>HS</th>\n",
       "      <th>AAC1</th>\n",
       "      <th>AUC1</th>\n",
       "      <th>DSS1</th>\n",
       "    </tr>\n",
       "  </thead>\n",
       "  <tbody>\n",
       "    <tr>\n",
       "      <th>metrics</th>\n",
       "      <td>0.6513</td>\n",
       "      <td>NaN</td>\n",
       "      <td>8.3055</td>\n",
       "      <td>0.0722</td>\n",
       "      <td>0.9845</td>\n",
       "      <td>0.5137</td>\n",
       "      <td>1.1909</td>\n",
       "      <td>0.2641</td>\n",
       "      <td>0.7359</td>\n",
       "      <td>0.1952</td>\n",
       "    </tr>\n",
       "  </tbody>\n",
       "</table>\n",
       "</div>"
      ],
      "text/plain": [
       "            AUC  IC50    EC50  EC50se   R2fit    Einf      HS    AAC1    AUC1  \\\n",
       "metrics  0.6513   NaN  8.3055  0.0722  0.9845  0.5137  1.1909  0.2641  0.7359   \n",
       "\n",
       "           DSS1  \n",
       "metrics  0.1952  "
      ]
     },
     "execution_count": 1086,
     "metadata": {},
     "output_type": "execute_result"
    }
   ],
   "source": [
    "fit_response(df0, 'LOXIMVI', 'paclitaxel', 'GDSC')"
   ]
  },
  {
   "cell_type": "markdown",
   "metadata": {},
   "source": [
    "#### Case 3\n",
    "The response data of the first CTRP study is a pathological case. The fitted curve is nearly a straight line. The estimated EC50 value is close to the upper bound (12) with extremely high standard error. Other parameters still match PharmacoDB's table closely. "
   ]
  },
  {
   "cell_type": "code",
   "execution_count": 1085,
   "metadata": {},
   "outputs": [
    {
     "name": "stdout",
     "output_type": "stream",
     "text": [
      "        SOURCE          CELL      DRUG      DOSE  GROWTH   STUDY\n",
      "3137911   CTRP  CTRP.LOXIMVI  CTRP.410  8.698970  0.4034  430774\n",
      "3137912   CTRP  CTRP.LOXIMVI  CTRP.410  8.387217  0.4963  430774\n",
      "3137913   CTRP  CTRP.LOXIMVI  CTRP.410  8.091515  0.3536  430774\n",
      "3137914   CTRP  CTRP.LOXIMVI  CTRP.410  7.795880  0.3044  430774\n",
      "3137915   CTRP  CTRP.LOXIMVI  CTRP.410  7.494850  0.2894  430774\n",
      "3137916   CTRP  CTRP.LOXIMVI  CTRP.410  7.187087  0.3679  430774\n",
      "3137917   CTRP  CTRP.LOXIMVI  CTRP.410  6.886056  0.2768  430774\n",
      "3137918   CTRP  CTRP.LOXIMVI  CTRP.410  6.585027  0.3187  430774\n",
      "3137919   CTRP  CTRP.LOXIMVI  CTRP.410  6.283997  0.3300  430774\n",
      "3137920   CTRP  CTRP.LOXIMVI  CTRP.410  6.000000  0.2679  430774\n",
      "3137921   CTRP  CTRP.LOXIMVI  CTRP.410  5.677781  0.3026  430774\n",
      "3137922   CTRP  CTRP.LOXIMVI  CTRP.410  5.376751  0.3258  430774\n",
      "3137923   CTRP  CTRP.LOXIMVI  CTRP.410  5.080922  1.0410  430774\n",
      "3137924   CTRP  CTRP.LOXIMVI  CTRP.410  4.769551  1.1900  430774\n",
      "3137925   CTRP  CTRP.LOXIMVI  CTRP.410  4.481486  0.8334  430774\n",
      "3137926   CTRP  CTRP.LOXIMVI  CTRP.410  4.180456  1.1010  430774\n"
     ]
    },
    {
     "data": {
      "image/png": "[encoded data removed]",
      "text/plain": [
       "<Figure size 432x288 with 1 Axes>"
      ]
     },
     "metadata": {},
     "output_type": "display_data"
    },
    {
     "data": {
      "text/html": [
       "<div>\n",
       "<style scoped>\n",
       "    .dataframe tbody tr th:only-of-type {\n",
       "        vertical-align: middle;\n",
       "    }\n",
       "\n",
       "    .dataframe tbody tr th {\n",
       "        vertical-align: top;\n",
       "    }\n",
       "\n",
       "    .dataframe thead th {\n",
       "        text-align: right;\n",
       "    }\n",
       "</style>\n",
       "<table border=\"1\" class=\"dataframe\">\n",
       "  <thead>\n",
       "    <tr style=\"text-align: right;\">\n",
       "      <th></th>\n",
       "      <th>AUC</th>\n",
       "      <th>IC50</th>\n",
       "      <th>EC50</th>\n",
       "      <th>EC50se</th>\n",
       "      <th>R2fit</th>\n",
       "      <th>Einf</th>\n",
       "      <th>HS</th>\n",
       "      <th>AAC1</th>\n",
       "      <th>AUC1</th>\n",
       "      <th>DSS1</th>\n",
       "    </tr>\n",
       "  </thead>\n",
       "  <tbody>\n",
       "    <tr>\n",
       "      <th>metrics</th>\n",
       "      <td>0.4919</td>\n",
       "      <td>10.8756</td>\n",
       "      <td>11.573</td>\n",
       "      <td>1.361470e+08</td>\n",
       "      <td>-0.0043</td>\n",
       "      <td>0.4919</td>\n",
       "      <td>2.5665</td>\n",
       "      <td>0.5081</td>\n",
       "      <td>0.4919</td>\n",
       "      <td>0.4535</td>\n",
       "    </tr>\n",
       "  </tbody>\n",
       "</table>\n",
       "</div>"
      ],
      "text/plain": [
       "            AUC     IC50    EC50        EC50se   R2fit    Einf      HS  \\\n",
       "metrics  0.4919  10.8756  11.573  1.361470e+08 -0.0043  0.4919  2.5665   \n",
       "\n",
       "           AAC1    AUC1    DSS1  \n",
       "metrics  0.5081  0.4919  0.4535  "
      ]
     },
     "execution_count": 1085,
     "metadata": {},
     "output_type": "execute_result"
    }
   ],
   "source": [
    "fit_response(df0, 'LOXIMVI', 'paclitaxel', 'CTRP', study=0)"
   ]
  },
  {
   "cell_type": "markdown",
   "metadata": {},
   "source": [
    "#### Case 4\n",
    "PharmacoDB does not have NCI60 data. Our combined single drug response data include 52 studies for this cell-drug tuple, one of which is shown below."
   ]
  },
  {
   "cell_type": "code",
   "execution_count": 1121,
   "metadata": {},
   "outputs": [
    {
     "name": "stdout",
     "output_type": "stream",
     "text": [
      "         SOURCE            CELL        DRUG  DOSE  GROWTH     STUDY\n",
      "10533438  NCI60  NCI60.LOX-IMVI  NSC.125973   6.0  0.5980  9306SA72\n",
      "10533439  NCI60  NCI60.LOX-IMVI  NSC.125973   8.0  0.6000  9306SA72\n",
      "10533440  NCI60  NCI60.LOX-IMVI  NSC.125973   9.0  0.7040  9306SA72\n",
      "10533441  NCI60  NCI60.LOX-IMVI  NSC.125973   7.0  0.5865  9306SA72\n",
      "10533442  NCI60  NCI60.LOX-IMVI  NSC.125973  10.0  0.7555  9306SA72\n"
     ]
    },
    {
     "data": {
      "image/png": "[encoded data removed]",
      "text/plain": [
       "<Figure size 432x288 with 1 Axes>"
      ]
     },
     "metadata": {},
     "output_type": "display_data"
    },
    {
     "data": {
      "text/html": [
       "<div>\n",
       "<style scoped>\n",
       "    .dataframe tbody tr th:only-of-type {\n",
       "        vertical-align: middle;\n",
       "    }\n",
       "\n",
       "    .dataframe tbody tr th {\n",
       "        vertical-align: top;\n",
       "    }\n",
       "\n",
       "    .dataframe thead th {\n",
       "        text-align: right;\n",
       "    }\n",
       "</style>\n",
       "<table border=\"1\" class=\"dataframe\">\n",
       "  <thead>\n",
       "    <tr style=\"text-align: right;\">\n",
       "      <th></th>\n",
       "      <th>AUC</th>\n",
       "      <th>IC50</th>\n",
       "      <th>EC50</th>\n",
       "      <th>EC50se</th>\n",
       "      <th>R2fit</th>\n",
       "      <th>Einf</th>\n",
       "      <th>HS</th>\n",
       "      <th>AAC1</th>\n",
       "      <th>AUC1</th>\n",
       "      <th>DSS1</th>\n",
       "    </tr>\n",
       "  </thead>\n",
       "  <tbody>\n",
       "    <tr>\n",
       "      <th>metrics</th>\n",
       "      <td>0.62</td>\n",
       "      <td>NaN</td>\n",
       "      <td>10.2318</td>\n",
       "      <td>0.3201</td>\n",
       "      <td>0.9322</td>\n",
       "      <td>0.5746</td>\n",
       "      <td>0.3988</td>\n",
       "      <td>0.3592</td>\n",
       "      <td>0.6408</td>\n",
       "      <td>0.288</td>\n",
       "    </tr>\n",
       "  </tbody>\n",
       "</table>\n",
       "</div>"
      ],
      "text/plain": [
       "          AUC  IC50     EC50  EC50se   R2fit    Einf      HS    AAC1    AUC1  \\\n",
       "metrics  0.62   NaN  10.2318  0.3201  0.9322  0.5746  0.3988  0.3592  0.6408   \n",
       "\n",
       "          DSS1  \n",
       "metrics  0.288  "
      ]
     },
     "execution_count": 1121,
     "metadata": {},
     "output_type": "execute_result"
    }
   ],
   "source": [
    "fit_response(df0, 'LOXIMVI', 'paclitaxel', 'NCI60', study=2)"
   ]
  },
  {
   "cell_type": "markdown",
   "metadata": {},
   "source": [
    "While R<sup>2</sup> is above 0.9, the standard error of EC50, at one third log, is not ideal."
   ]
  },
  {
   "cell_type": "markdown",
   "metadata": {},
   "source": [
    "### Examples of problematic curves"
   ]
  },
  {
   "cell_type": "code",
   "execution_count": 1122,
   "metadata": {},
   "outputs": [
    {
     "name": "stdout",
     "output_type": "stream",
     "text": [
      "      SOURCE       CELL     DRUG      DOSE  GROWTH     STUDY\n",
      "69608   CCLE  CCLE.A172  CCLE.19  8.602060  0.9370  fake_exp\n",
      "69609   CCLE  CCLE.A172  CCLE.19  8.096910  0.9930  fake_exp\n",
      "69610   CCLE  CCLE.A172  CCLE.19  7.602060  0.9946  fake_exp\n",
      "69611   CCLE  CCLE.A172  CCLE.19  7.096910  0.9870  fake_exp\n",
      "69612   CCLE  CCLE.A172  CCLE.19  6.602060  0.8800  fake_exp\n",
      "69613   CCLE  CCLE.A172  CCLE.19  6.096910  0.9190  fake_exp\n",
      "69614   CCLE  CCLE.A172  CCLE.19  5.596879  0.9240  fake_exp\n",
      "69615   CCLE  CCLE.A172  CCLE.19  5.096910  0.8400  fake_exp\n"
     ]
    },
    {
     "data": {
      "image/png": "[encoded data removed]",
      "text/plain": [
       "<Figure size 432x288 with 1 Axes>"
      ]
     },
     "metadata": {},
     "output_type": "display_data"
    },
    {
     "data": {
      "text/html": [
       "<div>\n",
       "<style scoped>\n",
       "    .dataframe tbody tr th:only-of-type {\n",
       "        vertical-align: middle;\n",
       "    }\n",
       "\n",
       "    .dataframe tbody tr th {\n",
       "        vertical-align: top;\n",
       "    }\n",
       "\n",
       "    .dataframe thead th {\n",
       "        text-align: right;\n",
       "    }\n",
       "</style>\n",
       "<table border=\"1\" class=\"dataframe\">\n",
       "  <thead>\n",
       "    <tr style=\"text-align: right;\">\n",
       "      <th></th>\n",
       "      <th>AUC</th>\n",
       "      <th>IC50</th>\n",
       "      <th>EC50</th>\n",
       "      <th>EC50se</th>\n",
       "      <th>R2fit</th>\n",
       "      <th>Einf</th>\n",
       "      <th>HS</th>\n",
       "      <th>AAC1</th>\n",
       "      <th>AUC1</th>\n",
       "      <th>DSS1</th>\n",
       "    </tr>\n",
       "  </thead>\n",
       "  <tbody>\n",
       "    <tr>\n",
       "      <th>metrics</th>\n",
       "      <td>0.9253</td>\n",
       "      <td>2.3398</td>\n",
       "      <td>2.3398</td>\n",
       "      <td>37.2213</td>\n",
       "      <td>0.5916</td>\n",
       "      <td>0.0</td>\n",
       "      <td>0.2792</td>\n",
       "      <td>0.0618</td>\n",
       "      <td>0.9382</td>\n",
       "      <td>0.0045</td>\n",
       "    </tr>\n",
       "  </tbody>\n",
       "</table>\n",
       "</div>"
      ],
      "text/plain": [
       "            AUC    IC50    EC50   EC50se   R2fit  Einf      HS    AAC1  \\\n",
       "metrics  0.9253  2.3398  2.3398  37.2213  0.5916   0.0  0.2792  0.0618   \n",
       "\n",
       "           AUC1    DSS1  \n",
       "metrics  0.9382  0.0045  "
      ]
     },
     "execution_count": 1122,
     "metadata": {},
     "output_type": "execute_result"
    }
   ],
   "source": [
    "fit_response(df0, 'A172', 'CCLE.19', 'CCLE')"
   ]
  },
  {
   "cell_type": "code",
   "execution_count": 1124,
   "metadata": {},
   "outputs": [
    {
     "name": "stdout",
     "output_type": "stream",
     "text": [
      "      SOURCE         CELL    DRUG      DOSE  GROWTH     STUDY\n",
      "19471   CCLE  CCLE.42MGBA  CCLE.6  8.602060  1.0344  fake_exp\n",
      "19472   CCLE  CCLE.42MGBA  CCLE.6  8.096910  0.7700  fake_exp\n",
      "19473   CCLE  CCLE.42MGBA  CCLE.6  7.602060  0.9710  fake_exp\n",
      "19474   CCLE  CCLE.42MGBA  CCLE.6  7.096910  0.6200  fake_exp\n",
      "19475   CCLE  CCLE.42MGBA  CCLE.6  6.602060  1.1930  fake_exp\n",
      "19476   CCLE  CCLE.42MGBA  CCLE.6  6.096910  1.0175  fake_exp\n",
      "19477   CCLE  CCLE.42MGBA  CCLE.6  5.596879  1.2360  fake_exp\n",
      "19478   CCLE  CCLE.42MGBA  CCLE.6  5.096910  0.8800  fake_exp\n"
     ]
    },
    {
     "data": {
      "image/png": "[encoded data removed]",
      "text/plain": [
       "<Figure size 432x288 with 1 Axes>"
      ]
     },
     "metadata": {},
     "output_type": "display_data"
    },
    {
     "data": {
      "text/html": [
       "<div>\n",
       "<style scoped>\n",
       "    .dataframe tbody tr th:only-of-type {\n",
       "        vertical-align: middle;\n",
       "    }\n",
       "\n",
       "    .dataframe tbody tr th {\n",
       "        vertical-align: top;\n",
       "    }\n",
       "\n",
       "    .dataframe thead th {\n",
       "        text-align: right;\n",
       "    }\n",
       "</style>\n",
       "<table border=\"1\" class=\"dataframe\">\n",
       "  <thead>\n",
       "    <tr style=\"text-align: right;\">\n",
       "      <th></th>\n",
       "      <th>AUC</th>\n",
       "      <th>IC50</th>\n",
       "      <th>EC50</th>\n",
       "      <th>EC50se</th>\n",
       "      <th>R2fit</th>\n",
       "      <th>Einf</th>\n",
       "      <th>HS</th>\n",
       "      <th>AAC1</th>\n",
       "      <th>AUC1</th>\n",
       "      <th>DSS1</th>\n",
       "    </tr>\n",
       "  </thead>\n",
       "  <tbody>\n",
       "    <tr>\n",
       "      <th>metrics</th>\n",
       "      <td>0.9062</td>\n",
       "      <td>NaN</td>\n",
       "      <td>7.6674</td>\n",
       "      <td>0.0</td>\n",
       "      <td>-0.0972</td>\n",
       "      <td>0.8103</td>\n",
       "      <td>0.0</td>\n",
       "      <td>0.0949</td>\n",
       "      <td>0.9051</td>\n",
       "      <td>0.0</td>\n",
       "    </tr>\n",
       "  </tbody>\n",
       "</table>\n",
       "</div>"
      ],
      "text/plain": [
       "            AUC  IC50    EC50  EC50se   R2fit    Einf   HS    AAC1    AUC1  \\\n",
       "metrics  0.9062   NaN  7.6674     0.0 -0.0972  0.8103  0.0  0.0949  0.9051   \n",
       "\n",
       "         DSS1  \n",
       "metrics   0.0  "
      ]
     },
     "execution_count": 1124,
     "metadata": {},
     "output_type": "execute_result"
    }
   ],
   "source": [
    "fit_response(df0, '42MGBA', 'CCLE.6', 'CCLE')"
   ]
  },
  {
   "cell_type": "code",
   "execution_count": 1125,
   "metadata": {},
   "outputs": [
    {
     "name": "stdout",
     "output_type": "stream",
     "text": [
      "      SOURCE       CELL     DRUG      DOSE  GROWTH     STUDY\n",
      "54244   CCLE  CCLE.BT20  CCLE.15  8.602060  0.7400  fake_exp\n",
      "54245   CCLE  CCLE.BT20  CCLE.15  8.096910  0.9410  fake_exp\n",
      "54246   CCLE  CCLE.BT20  CCLE.15  7.602060  0.9140  fake_exp\n",
      "54247   CCLE  CCLE.BT20  CCLE.15  7.096910  1.0502  fake_exp\n",
      "54248   CCLE  CCLE.BT20  CCLE.15  6.602060  1.0019  fake_exp\n",
      "54249   CCLE  CCLE.BT20  CCLE.15  6.096910  0.8300  fake_exp\n",
      "54250   CCLE  CCLE.BT20  CCLE.15  5.596879  0.8600  fake_exp\n",
      "54251   CCLE  CCLE.BT20  CCLE.15  5.096910  0.7800  fake_exp\n"
     ]
    },
    {
     "data": {
      "image/png": "[encoded data removed]",
      "text/plain": [
       "<Figure size 432x288 with 1 Axes>"
      ]
     },
     "metadata": {},
     "output_type": "display_data"
    },
    {
     "data": {
      "text/html": [
       "<div>\n",
       "<style scoped>\n",
       "    .dataframe tbody tr th:only-of-type {\n",
       "        vertical-align: middle;\n",
       "    }\n",
       "\n",
       "    .dataframe tbody tr th {\n",
       "        vertical-align: top;\n",
       "    }\n",
       "\n",
       "    .dataframe thead th {\n",
       "        text-align: right;\n",
       "    }\n",
       "</style>\n",
       "<table border=\"1\" class=\"dataframe\">\n",
       "  <thead>\n",
       "    <tr style=\"text-align: right;\">\n",
       "      <th></th>\n",
       "      <th>AUC</th>\n",
       "      <th>IC50</th>\n",
       "      <th>EC50</th>\n",
       "      <th>EC50se</th>\n",
       "      <th>R2fit</th>\n",
       "      <th>Einf</th>\n",
       "      <th>HS</th>\n",
       "      <th>AAC1</th>\n",
       "      <th>AUC1</th>\n",
       "      <th>DSS1</th>\n",
       "    </tr>\n",
       "  </thead>\n",
       "  <tbody>\n",
       "    <tr>\n",
       "      <th>metrics</th>\n",
       "      <td>0.8851</td>\n",
       "      <td>-11.877</td>\n",
       "      <td>0.0</td>\n",
       "      <td>641.2046</td>\n",
       "      <td>0.0216</td>\n",
       "      <td>0.4505</td>\n",
       "      <td>0.0846</td>\n",
       "      <td>0.1156</td>\n",
       "      <td>0.8844</td>\n",
       "      <td>0.0192</td>\n",
       "    </tr>\n",
       "  </tbody>\n",
       "</table>\n",
       "</div>"
      ],
      "text/plain": [
       "            AUC    IC50  EC50    EC50se   R2fit    Einf      HS    AAC1  \\\n",
       "metrics  0.8851 -11.877   0.0  641.2046  0.0216  0.4505  0.0846  0.1156   \n",
       "\n",
       "           AUC1    DSS1  \n",
       "metrics  0.8844  0.0192  "
      ]
     },
     "execution_count": 1125,
     "metadata": {},
     "output_type": "execute_result"
    }
   ],
   "source": [
    "fit_response(df0, 'BT20', 'CCLE.15', 'CCLE')"
   ]
  },
  {
   "cell_type": "markdown",
   "metadata": {},
   "source": [
    "IC50 = -11.877 stands for a half inhibitory concentration of **7.5e+11** M."
   ]
  },
  {
   "cell_type": "code",
   "execution_count": 1140,
   "metadata": {},
   "outputs": [
    {
     "name": "stdout",
     "output_type": "stream",
     "text": [
      "       SOURCE             CELL      DRUG      DOSE  GROWTH   STUDY\n",
      "304845   CTRP  CTRP.ACC-MESO-1  CTRP.125  8.698970  1.1360  264411\n",
      "304846   CTRP  CTRP.ACC-MESO-1  CTRP.125  8.387217  1.1290  264411\n",
      "304847   CTRP  CTRP.ACC-MESO-1  CTRP.125  8.091515  1.1070  264411\n",
      "304848   CTRP  CTRP.ACC-MESO-1  CTRP.125  7.795880  1.1280  264411\n",
      "304849   CTRP  CTRP.ACC-MESO-1  CTRP.125  7.494850  1.1450  264411\n",
      "304850   CTRP  CTRP.ACC-MESO-1  CTRP.125  7.187087  1.1030  264411\n",
      "304851   CTRP  CTRP.ACC-MESO-1  CTRP.125  6.886056  1.1280  264411\n",
      "304852   CTRP  CTRP.ACC-MESO-1  CTRP.125  6.585027  1.1130  264411\n",
      "304853   CTRP  CTRP.ACC-MESO-1  CTRP.125  6.283997  0.9841  264411\n",
      "304854   CTRP  CTRP.ACC-MESO-1  CTRP.125  6.000000  1.0230  264411\n",
      "304855   CTRP  CTRP.ACC-MESO-1  CTRP.125  5.677781  1.1370  264411\n",
      "304856   CTRP  CTRP.ACC-MESO-1  CTRP.125  5.376751  1.1220  264411\n",
      "304857   CTRP  CTRP.ACC-MESO-1  CTRP.125  5.080922  1.0100  264411\n",
      "304858   CTRP  CTRP.ACC-MESO-1  CTRP.125  4.769551  1.0520  264411\n",
      "304859   CTRP  CTRP.ACC-MESO-1  CTRP.125  4.481486  1.0780  264411\n",
      "304860   CTRP  CTRP.ACC-MESO-1  CTRP.125  4.180456  1.1170  264411\n"
     ]
    },
    {
     "data": {
      "image/png": "[encoded data removed]",
      "text/plain": [
       "<Figure size 432x288 with 1 Axes>"
      ]
     },
     "metadata": {},
     "output_type": "display_data"
    },
    {
     "data": {
      "text/html": [
       "<div>\n",
       "<style scoped>\n",
       "    .dataframe tbody tr th:only-of-type {\n",
       "        vertical-align: middle;\n",
       "    }\n",
       "\n",
       "    .dataframe tbody tr th {\n",
       "        vertical-align: top;\n",
       "    }\n",
       "\n",
       "    .dataframe thead th {\n",
       "        text-align: right;\n",
       "    }\n",
       "</style>\n",
       "<table border=\"1\" class=\"dataframe\">\n",
       "  <thead>\n",
       "    <tr style=\"text-align: right;\">\n",
       "      <th></th>\n",
       "      <th>AUC</th>\n",
       "      <th>IC50</th>\n",
       "      <th>EC50</th>\n",
       "      <th>EC50se</th>\n",
       "      <th>R2fit</th>\n",
       "      <th>Einf</th>\n",
       "      <th>HS</th>\n",
       "      <th>AAC1</th>\n",
       "      <th>AUC1</th>\n",
       "      <th>DSS1</th>\n",
       "    </tr>\n",
       "  </thead>\n",
       "  <tbody>\n",
       "    <tr>\n",
       "      <th>metrics</th>\n",
       "      <td>0.9992</td>\n",
       "      <td>NaN</td>\n",
       "      <td>6.6978</td>\n",
       "      <td>1.11</td>\n",
       "      <td>-3.8351</td>\n",
       "      <td>0.9982</td>\n",
       "      <td>3.9997</td>\n",
       "      <td>0.001</td>\n",
       "      <td>0.999</td>\n",
       "      <td>0.0</td>\n",
       "    </tr>\n",
       "  </tbody>\n",
       "</table>\n",
       "</div>"
      ],
      "text/plain": [
       "            AUC  IC50    EC50  EC50se   R2fit    Einf      HS   AAC1   AUC1  \\\n",
       "metrics  0.9992   NaN  6.6978    1.11 -3.8351  0.9982  3.9997  0.001  0.999   \n",
       "\n",
       "         DSS1  \n",
       "metrics   0.0  "
      ]
     },
     "execution_count": 1140,
     "metadata": {},
     "output_type": "execute_result"
    }
   ],
   "source": [
    "fit_response(df0, 'ACC-MESO-1', 'CTRP.125', 'CTRP')"
   ]
  },
  {
   "cell_type": "markdown",
   "metadata": {},
   "source": [
    "EC50se == 0 alone is not a guarantee of a good fit. When any of the three parameters is close to a bound (HS ~= 4 above, HS == 0 below), the low standard error on EC50 is misleading. In both cases, R2 is negative. "
   ]
  },
  {
   "cell_type": "code",
   "execution_count": 1141,
   "metadata": {},
   "outputs": [
    {
     "name": "stdout",
     "output_type": "stream",
     "text": [
      "      SOURCE         CELL     DRUG      DOSE  GROWTH     STUDY\n",
      "53989   CCLE  CCLE.1321N1  CCLE.15  8.602060  0.7300  fake_exp\n",
      "53990   CCLE  CCLE.1321N1  CCLE.15  8.096910  0.8400  fake_exp\n",
      "53991   CCLE  CCLE.1321N1  CCLE.15  7.602060  0.9370  fake_exp\n",
      "53992   CCLE  CCLE.1321N1  CCLE.15  7.096910  1.0086  fake_exp\n",
      "53993   CCLE  CCLE.1321N1  CCLE.15  6.602060  0.9590  fake_exp\n",
      "53994   CCLE  CCLE.1321N1  CCLE.15  6.096910  0.9650  fake_exp\n",
      "53995   CCLE  CCLE.1321N1  CCLE.15  5.596879  1.0121  fake_exp\n",
      "53996   CCLE  CCLE.1321N1  CCLE.15  5.096910  0.9120  fake_exp\n"
     ]
    },
    {
     "data": {
      "image/png": "[encoded data removed]",
      "text/plain": [
       "<Figure size 432x288 with 1 Axes>"
      ]
     },
     "metadata": {},
     "output_type": "display_data"
    },
    {
     "data": {
      "text/html": [
       "<div>\n",
       "<style scoped>\n",
       "    .dataframe tbody tr th:only-of-type {\n",
       "        vertical-align: middle;\n",
       "    }\n",
       "\n",
       "    .dataframe tbody tr th {\n",
       "        vertical-align: top;\n",
       "    }\n",
       "\n",
       "    .dataframe thead th {\n",
       "        text-align: right;\n",
       "    }\n",
       "</style>\n",
       "<table border=\"1\" class=\"dataframe\">\n",
       "  <thead>\n",
       "    <tr style=\"text-align: right;\">\n",
       "      <th></th>\n",
       "      <th>AUC</th>\n",
       "      <th>IC50</th>\n",
       "      <th>EC50</th>\n",
       "      <th>EC50se</th>\n",
       "      <th>R2fit</th>\n",
       "      <th>Einf</th>\n",
       "      <th>HS</th>\n",
       "      <th>AAC1</th>\n",
       "      <th>AUC1</th>\n",
       "      <th>DSS1</th>\n",
       "    </tr>\n",
       "  </thead>\n",
       "  <tbody>\n",
       "    <tr>\n",
       "      <th>metrics</th>\n",
       "      <td>0.9167</td>\n",
       "      <td>NaN</td>\n",
       "      <td>12.0</td>\n",
       "      <td>0.0</td>\n",
       "      <td>-0.0009</td>\n",
       "      <td>0.8358</td>\n",
       "      <td>0.0</td>\n",
       "      <td>0.0821</td>\n",
       "      <td>0.9179</td>\n",
       "      <td>0.0</td>\n",
       "    </tr>\n",
       "  </tbody>\n",
       "</table>\n",
       "</div>"
      ],
      "text/plain": [
       "            AUC  IC50  EC50  EC50se   R2fit    Einf   HS    AAC1    AUC1  DSS1\n",
       "metrics  0.9167   NaN  12.0     0.0 -0.0009  0.8358  0.0  0.0821  0.9179   0.0"
      ]
     },
     "execution_count": 1141,
     "metadata": {},
     "output_type": "execute_result"
    }
   ],
   "source": [
    "fit_response(df0, 'CCLE.1321N1', 'CCLE.15', 'CCLE')"
   ]
  }
 ],
 "metadata": {
  "kernelspec": {
   "display_name": "Python 3",
   "language": "python",
   "name": "python3"
  },
  "language_info": {
   "codemirror_mode": {
    "name": "ipython",
    "version": 3
   },
   "file_extension": ".py",
   "mimetype": "text/x-python",
   "name": "python",
   "nbconvert_exporter": "python",
   "pygments_lexer": "ipython3",
   "version": "3.6.2"
  }
 },
 "nbformat": 4,
 "nbformat_minor": 2
}
